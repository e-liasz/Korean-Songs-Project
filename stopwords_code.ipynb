{
 "cells": [
  {
   "cell_type": "code",
   "execution_count": 1,
   "metadata": {},
   "outputs": [],
   "source": [
    "import stopwordsiso"
   ]
  },
  {
   "cell_type": "code",
   "execution_count": 2,
   "metadata": {},
   "outputs": [],
   "source": [
    "stoplist = []\n",
    "file1 = open('C:/Users/eli/Documents/WinnersClean.txt','r', encoding = \"utf8\")\n",
    "file2 = open('C:/Users/eli/Downloads/stopwords-ko.txt','r', encoding = \"utf8\")\n",
    "file3 = open('C:/Users/eli/Documents/filtered.txt','a', encoding = \"utf8\")\n",
    "for line in file2:\n",
    "    w = line.split()\n",
    "    for word in w:\n",
    "        stoplist.append(word)\n",
    "#end \n",
    "for line in file1:\n",
    "    w = line.split()\n",
    "    for word in w:\n",
    "        if word in stoplist: continue\n",
    "        else: \n",
    "            file3.write(word)\n",
    "#end \n",
    "file1.close()\n",
    "file2.close()\n",
    "file3.close()"
   ]
  }
 ],
 "metadata": {
  "kernelspec": {
   "display_name": "Python 3.11.0 64-bit",
   "language": "python",
   "name": "python3"
  },
  "language_info": {
   "codemirror_mode": {
    "name": "ipython",
    "version": 3
   },
   "file_extension": ".py",
   "mimetype": "text/x-python",
   "name": "python",
   "nbconvert_exporter": "python",
   "pygments_lexer": "ipython3",
   "version": "3.11.0 (main, Oct 24 2022, 18:26:48) [MSC v.1933 64 bit (AMD64)]"
  },
  "orig_nbformat": 4,
  "vscode": {
   "interpreter": {
    "hash": "2a3144d63cd4d0104de28794ca9029edc5dcfd2c9ed58019c45965fc967d2a2b"
   }
  }
 },
 "nbformat": 4,
 "nbformat_minor": 2
}
